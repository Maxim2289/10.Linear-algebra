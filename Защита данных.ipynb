{
 "cells": [
  {
   "cell_type": "markdown",
   "metadata": {
    "toc": true
   },
   "source": [
    "<h1>Содержание<span class=\"tocSkip\"></span></h1>\n",
    "<div class=\"toc\"><ul class=\"toc-item\"><li><span><a href=\"#Загрузка-данных\" data-toc-modified-id=\"Загрузка-данных-1\"><span class=\"toc-item-num\">1&nbsp;&nbsp;</span>Загрузка данных</a></span></li><li><span><a href=\"#Умножение-матриц\" data-toc-modified-id=\"Умножение-матриц-2\"><span class=\"toc-item-num\">2&nbsp;&nbsp;</span>Умножение матриц</a></span></li><li><span><a href=\"#Алгоритм-преобразования\" data-toc-modified-id=\"Алгоритм-преобразования-3\"><span class=\"toc-item-num\">3&nbsp;&nbsp;</span>Алгоритм преобразования</a></span></li><li><span><a href=\"#Проверка-алгоритма\" data-toc-modified-id=\"Проверка-алгоритма-4\"><span class=\"toc-item-num\">4&nbsp;&nbsp;</span>Проверка алгоритма</a></span></li><li><span><a href=\"#Чек-лист-проверки\" data-toc-modified-id=\"Чек-лист-проверки-5\"><span class=\"toc-item-num\">5&nbsp;&nbsp;</span>Чек-лист проверки</a></span></li></ul></div>"
   ]
  },
  {
   "cell_type": "markdown",
   "metadata": {},
   "source": [
    "# Защита персональных данных клиентов"
   ]
  },
  {
   "cell_type": "markdown",
   "metadata": {},
   "source": [
    "Вам нужно защитить данные клиентов страховой компании «Хоть потоп». Разработайте такой метод преобразования данных, чтобы по ним было сложно восстановить персональную информацию. Обоснуйте корректность его работы.\n",
    "\n",
    "Нужно защитить данные, чтобы при преобразовании качество моделей машинного обучения не ухудшилось. Подбирать наилучшую модель не требуется."
   ]
  },
  {
   "cell_type": "markdown",
   "metadata": {},
   "source": [
    "## Загрузка данных"
   ]
  },
  {
   "cell_type": "markdown",
   "metadata": {},
   "source": [
    "Импорт библиотек"
   ]
  },
  {
   "cell_type": "code",
   "execution_count": 1,
   "metadata": {},
   "outputs": [],
   "source": [
    "import pandas as pd\n",
    "import numpy as np"
   ]
  },
  {
   "cell_type": "code",
   "execution_count": 2,
   "metadata": {},
   "outputs": [],
   "source": [
    "from sklearn.model_selection import train_test_split\n",
    "from sklearn.metrics import r2_score\n",
    "from numpy import linalg as LA\n",
    "from sklearn.linear_model import LinearRegression"
   ]
  },
  {
   "cell_type": "markdown",
   "metadata": {},
   "source": [
    "Открываем файлы и изучаем их"
   ]
  },
  {
   "cell_type": "code",
   "execution_count": 3,
   "metadata": {},
   "outputs": [],
   "source": [
    "clients = pd.read_csv('/datasets/insurance.csv')"
   ]
  },
  {
   "cell_type": "code",
   "execution_count": 4,
   "metadata": {},
   "outputs": [
    {
     "data": {
      "text/html": [
       "<div>\n",
       "<style scoped>\n",
       "    .dataframe tbody tr th:only-of-type {\n",
       "        vertical-align: middle;\n",
       "    }\n",
       "\n",
       "    .dataframe tbody tr th {\n",
       "        vertical-align: top;\n",
       "    }\n",
       "\n",
       "    .dataframe thead th {\n",
       "        text-align: right;\n",
       "    }\n",
       "</style>\n",
       "<table border=\"1\" class=\"dataframe\">\n",
       "  <thead>\n",
       "    <tr style=\"text-align: right;\">\n",
       "      <th></th>\n",
       "      <th>Пол</th>\n",
       "      <th>Возраст</th>\n",
       "      <th>Зарплата</th>\n",
       "      <th>Члены семьи</th>\n",
       "      <th>Страховые выплаты</th>\n",
       "    </tr>\n",
       "  </thead>\n",
       "  <tbody>\n",
       "    <tr>\n",
       "      <th>0</th>\n",
       "      <td>1</td>\n",
       "      <td>41.0</td>\n",
       "      <td>49600.0</td>\n",
       "      <td>1</td>\n",
       "      <td>0</td>\n",
       "    </tr>\n",
       "    <tr>\n",
       "      <th>1</th>\n",
       "      <td>0</td>\n",
       "      <td>46.0</td>\n",
       "      <td>38000.0</td>\n",
       "      <td>1</td>\n",
       "      <td>1</td>\n",
       "    </tr>\n",
       "    <tr>\n",
       "      <th>2</th>\n",
       "      <td>0</td>\n",
       "      <td>29.0</td>\n",
       "      <td>21000.0</td>\n",
       "      <td>0</td>\n",
       "      <td>0</td>\n",
       "    </tr>\n",
       "    <tr>\n",
       "      <th>3</th>\n",
       "      <td>0</td>\n",
       "      <td>21.0</td>\n",
       "      <td>41700.0</td>\n",
       "      <td>2</td>\n",
       "      <td>0</td>\n",
       "    </tr>\n",
       "    <tr>\n",
       "      <th>4</th>\n",
       "      <td>1</td>\n",
       "      <td>28.0</td>\n",
       "      <td>26100.0</td>\n",
       "      <td>0</td>\n",
       "      <td>0</td>\n",
       "    </tr>\n",
       "    <tr>\n",
       "      <th>...</th>\n",
       "      <td>...</td>\n",
       "      <td>...</td>\n",
       "      <td>...</td>\n",
       "      <td>...</td>\n",
       "      <td>...</td>\n",
       "    </tr>\n",
       "    <tr>\n",
       "      <th>4995</th>\n",
       "      <td>0</td>\n",
       "      <td>28.0</td>\n",
       "      <td>35700.0</td>\n",
       "      <td>2</td>\n",
       "      <td>0</td>\n",
       "    </tr>\n",
       "    <tr>\n",
       "      <th>4996</th>\n",
       "      <td>0</td>\n",
       "      <td>34.0</td>\n",
       "      <td>52400.0</td>\n",
       "      <td>1</td>\n",
       "      <td>0</td>\n",
       "    </tr>\n",
       "    <tr>\n",
       "      <th>4997</th>\n",
       "      <td>0</td>\n",
       "      <td>20.0</td>\n",
       "      <td>33900.0</td>\n",
       "      <td>2</td>\n",
       "      <td>0</td>\n",
       "    </tr>\n",
       "    <tr>\n",
       "      <th>4998</th>\n",
       "      <td>1</td>\n",
       "      <td>22.0</td>\n",
       "      <td>32700.0</td>\n",
       "      <td>3</td>\n",
       "      <td>0</td>\n",
       "    </tr>\n",
       "    <tr>\n",
       "      <th>4999</th>\n",
       "      <td>1</td>\n",
       "      <td>28.0</td>\n",
       "      <td>40600.0</td>\n",
       "      <td>1</td>\n",
       "      <td>0</td>\n",
       "    </tr>\n",
       "  </tbody>\n",
       "</table>\n",
       "<p>5000 rows × 5 columns</p>\n",
       "</div>"
      ],
      "text/plain": [
       "      Пол  Возраст  Зарплата  Члены семьи  Страховые выплаты\n",
       "0       1     41.0   49600.0            1                  0\n",
       "1       0     46.0   38000.0            1                  1\n",
       "2       0     29.0   21000.0            0                  0\n",
       "3       0     21.0   41700.0            2                  0\n",
       "4       1     28.0   26100.0            0                  0\n",
       "...   ...      ...       ...          ...                ...\n",
       "4995    0     28.0   35700.0            2                  0\n",
       "4996    0     34.0   52400.0            1                  0\n",
       "4997    0     20.0   33900.0            2                  0\n",
       "4998    1     22.0   32700.0            3                  0\n",
       "4999    1     28.0   40600.0            1                  0\n",
       "\n",
       "[5000 rows x 5 columns]"
      ]
     },
     "execution_count": 4,
     "metadata": {},
     "output_type": "execute_result"
    }
   ],
   "source": [
    "clients"
   ]
  },
  {
   "cell_type": "code",
   "execution_count": 5,
   "metadata": {},
   "outputs": [
    {
     "name": "stdout",
     "output_type": "stream",
     "text": [
      "<class 'pandas.core.frame.DataFrame'>\n",
      "RangeIndex: 5000 entries, 0 to 4999\n",
      "Data columns (total 5 columns):\n",
      " #   Column             Non-Null Count  Dtype  \n",
      "---  ------             --------------  -----  \n",
      " 0   Пол                5000 non-null   int64  \n",
      " 1   Возраст            5000 non-null   float64\n",
      " 2   Зарплата           5000 non-null   float64\n",
      " 3   Члены семьи        5000 non-null   int64  \n",
      " 4   Страховые выплаты  5000 non-null   int64  \n",
      "dtypes: float64(2), int64(3)\n",
      "memory usage: 195.4 KB\n"
     ]
    }
   ],
   "source": [
    "clients.info()"
   ]
  },
  {
   "cell_type": "code",
   "execution_count": 6,
   "metadata": {},
   "outputs": [
    {
     "data": {
      "text/plain": [
       "Пол                  0\n",
       "Возраст              0\n",
       "Зарплата             0\n",
       "Члены семьи          0\n",
       "Страховые выплаты    0\n",
       "dtype: int64"
      ]
     },
     "execution_count": 6,
     "metadata": {},
     "output_type": "execute_result"
    }
   ],
   "source": [
    "clients.isna().sum() # Посмотрим пропуски."
   ]
  },
  {
   "cell_type": "markdown",
   "metadata": {},
   "source": [
    "Поскольку зарплаты и возраст у нас целые числа можно поменять еа более подходящий формат."
   ]
  },
  {
   "cell_type": "code",
   "execution_count": 7,
   "metadata": {},
   "outputs": [],
   "source": [
    "clients['Зарплата'] = clients['Зарплата'].astype('int')\n",
    "clients['Возраст'] = clients['Возраст'].astype('int')"
   ]
  },
  {
   "cell_type": "markdown",
   "metadata": {},
   "source": [
    "1 Резюме.\n",
    "\n",
    "Импортировали библиотеки. Загрузили и посмотрели файл. Пропусков в нем нет, дублекаты проверять нестали поскольку здесь совподения весьма логичны. Изменили формат  float на int для повышения быстродействия."
   ]
  },
  {
   "cell_type": "markdown",
   "metadata": {},
   "source": [
    "## Умножение матриц"
   ]
  },
  {
   "cell_type": "markdown",
   "metadata": {},
   "source": [
    "В этом задании вы можете записывать формулы в *Jupyter Notebook.*\n",
    "\n",
    "Чтобы записать формулу внутри текста, окружите её символами доллара \\\\$; если снаружи —  двойными символами \\\\$\\\\$. Эти формулы записываются на языке вёрстки *LaTeX.* \n",
    "\n",
    "Для примера мы записали формулы линейной регрессии. Можете их скопировать и отредактировать, чтобы решить задачу.\n",
    "\n",
    "Работать в *LaTeX* необязательно."
   ]
  },
  {
   "cell_type": "markdown",
   "metadata": {},
   "source": [
    "Обозначения:\n",
    "\n",
    "- $X$ — матрица признаков (нулевой столбец состоит из единиц)\n",
    "\n",
    "- $y$ — вектор целевого признака\n",
    "\n",
    "- $P$ — матрица, на которую умножаются признаки\n",
    "\n",
    "- $w$ — вектор весов линейной регрессии (нулевой элемент равен сдвигу)"
   ]
  },
  {
   "cell_type": "markdown",
   "metadata": {},
   "source": [
    "Предсказания:\n",
    "\n",
    "$$\n",
    "a = Xw\n",
    "$$\n",
    "\n",
    "Задача обучения:\n",
    "\n",
    "$$\n",
    "w = \\arg\\min_w MSE(Xw, y)\n",
    "$$\n",
    "\n",
    "Формула обучения:\n",
    "\n",
    "$$\n",
    "w = (X^T X)^{-1} X^T y\n",
    "$$"
   ]
  },
  {
   "cell_type": "markdown",
   "metadata": {},
   "source": [
    "**Ответ:**  b. Не изменится. \n",
    "\n",
    "**Обоснование:**\n",
    "\n",
    "Преобразуем формулу:\n",
    "    \n",
    "$$\n",
    "w' = ((XP)^T XP)^{-1} (XP)^T y\n",
    "$$"
   ]
  },
  {
   "cell_type": "markdown",
   "metadata": {},
   "source": [
    "\n",
    "\n",
    "Сначала раскроем под знаком транспонирования:\n",
    "    \n",
    "$$\n",
    "w' = (P^T X^T X P)^{-1} (XP)^T y\n",
    "$$\n",
    "    \n",
    "Поставим скобки для нагляднгости: \n",
    "    \n",
    "    \n",
    "$$\n",
    "w' = (P^T (X^T X) P)^{-1} P^T X^T y\n",
    "$$    \n",
    "    \n",
    "\n",
    "видим 3 квадратные матрицы!\n",
    "    \n",
    "$\n",
    "P^T, (X^T X), P\n",
    "$ \n",
    "Используем правило:\n",
    "  \n",
    "    \n",
    "$$(ABC)^{-1} = C^{-1}(AB)^{-1} = (BC)^{-1}A^{-1} = C^{-1}B^{-1}A^{-1}$$\n"
   ]
  },
  {
   "cell_type": "markdown",
   "metadata": {},
   "source": [
    "Где A,B, C - это все квадратные матрицы, потому что только  у квадратных матриц есть обратные матрица.\n",
    "\n",
    "Теперь подставим в это выражения наши квадратные матрицы где:\n",
    "\n",
    "$A = P^T$\n",
    "\n",
    "$B= X^T X$\n",
    "\n",
    "$C=P$\n",
    "\n",
    "$$(P^T \\cdot X^T X \\cdot P)^{-1}= P^{-1} \\cdot (P^T \\cdot X^T X)^{-1} = (X^T X \\cdot P)^{-1} \\cdot (P^T)^{-1} = P^{-1} \\cdot (X^T X)^{-1} \\cdot (P^T)^{-1}$$\n"
   ]
  },
  {
   "cell_type": "markdown",
   "metadata": {},
   "source": [
    "$$\n",
    "w` = (P^T (X^T X) P)^{-1} P^T X^T y = P^{-1} (P^T)^{-1} (X^T X)^{-1}  P^T X^T y = (X^T X P)^{-1} (P^T)^{-1} P^T X^T y = P^{-1} (X^T X)^{-1} (P^T)^{-1} (P X)^T y\n",
    "$$"
   ]
  },
  {
   "cell_type": "markdown",
   "metadata": {},
   "source": [
    "Так как \n",
    "$w = (X^T X)^{-1} X^T y$, то тогда выражения равны. В итоге получаем, что $a`=a$, и $w`=w$ "
   ]
  },
  {
   "cell_type": "markdown",
   "metadata": {},
   "source": [
    "$$\n",
    "w` = ((PX)^T PX)^{-1} (PX)^T y = (P^T X^T XP)^{-1} P^T X^T y = (P^T)^{-1} P^{-1} (X^T X)^{-1} P^T X^T y = EP^{-1} (X^T X)^{-1} (PX)^Ty = P^{-1}w\n",
    "$$\n",
    "\n",
    "$$\n",
    "a` = PXw` =PXP^{-1}w=Xw=a\n",
    "$$\n"
   ]
  },
  {
   "cell_type": "markdown",
   "metadata": {},
   "source": [
    "Предположим что a = a', где a' - это предсказание, в которое мы передали матрицу признаков X, умноженную на матрицу\n",
    "$$\n",
    "a = Xw\n",
    "$$\n",
    "$$\n",
    "a` = X`w`\n",
    "$$\n",
    "$$\n",
    "X` = XP\n",
    "$$\n",
    "Составим уравнение для формул предсказания для матрицы ХР\n",
    "$$\n",
    "a` = (XP)((XP)^T XP)^{-1} (XP)^T y\n",
    "$$\n",
    "Раскрываем транспонирования по свойству: $(AB)^T=B^T A^T$\n",
    "$$\n",
    "a` = XP(P^T X^T XP)^{-1}  P^T X^T y\n",
    "$$\n",
    "раскроем скобки по свойству $(AB)^{-1}=B^{-1} A^{-1}$\n",
    "$$\n",
    "a` = XP (X^T XP)^{-1} (P^T)^{-1} P^T X^T y = XPP^{-1}  (X^T X)^{-1} (P^T)^{-1} P^T X^T y \n",
    "$$\n",
    "В результате сокращения получим выражение\n",
    "$$\n",
    "a` = XE (X^T X)^{-1} EX^T y = X(X^T X)^{-1} X^T y \n",
    "$$"
   ]
  },
  {
   "cell_type": "markdown",
   "metadata": {},
   "source": [
    "2 Резюме.\n",
    "\n",
    "Мы умножили матрицы. После нужно последовательно преобразовать данное выражение, используя свойства транспонирования, обратных матриц. Увидели, что если домножим нашу матрицу признаков на обратную, то они в той же степени, что и значения обратной матрицы пропорционально изменяться. Таким образом мы сможем защитить информацию о клиентах неухудшив модель машинного обучения."
   ]
  },
  {
   "cell_type": "markdown",
   "metadata": {},
   "source": [
    "## Алгоритм преобразования"
   ]
  },
  {
   "cell_type": "markdown",
   "metadata": {},
   "source": [
    "**Алгоритм**\n",
    "* Смотрим признаки и целевые признаки\n",
    "\n",
    "* Создается матрицу 4 на 4\n",
    "\n",
    "* Проверяется обратимость марицы\n",
    "\n",
    "\n",
    "* Создается объект модели линейной регрессии.\n",
    "* Обучения на исходных признаках.\n",
    "* Делаются прогнозы на обучающих данных.\n",
    "* Вычисляется метрика качества линейной регрессии R2 на исходных признаках.\n",
    "* Производится преобразование признаков с помощью матрицы.\n",
    "* Обучающие признаки, и целевая переменная подаются для обучения на преобразованных признаках.\n",
    "* Делаются прогнозы на преобразованных данных.\n",
    "* Вычисляется метрика качества линейной регрессии R2 на преобразованных признаках. \n",
    "* Выводятся на экран обе метрики качества линейной регрессии R2: на исходных признаках и на преобразованных признаках.\n",
    "\n",
    "\n",
    "* Сравниваются метрики"
   ]
  },
  {
   "cell_type": "markdown",
   "metadata": {},
   "source": [
    "**Обоснование**\n",
    "\n"
   ]
  },
  {
   "cell_type": "markdown",
   "metadata": {},
   "source": [
    "Нужно  чтобы не ухудшилось качество модели. \n",
    "\n",
    "Необходимо вывести значение новых коэффициентов регрессии, после умножения на обратимую матрицу, через старые коэффициенты, показав, что в итоге ответы линейной регрессии останутся такими же.\n",
    "\n",
    "Для этого используем правила с операциями транспонирования и свойствами обратных матриц. Незабываем о формула предсказания и нахождения коэффициента линейной регрессии."
   ]
  },
  {
   "cell_type": "markdown",
   "metadata": {},
   "source": [
    "$$\n",
    "(AB)^T=B^T A^T\n",
    "$$\n",
    "$$\n",
    "(AB)^{-1}=B^{-1} A^{-1}\n",
    "$$\n",
    "$$\n",
    "(AА)^{-1}=А^{-1} A = Е\n",
    "$$\n",
    "$$\n",
    "AЕ=ЕА = А\n",
    "$$"
   ]
  },
  {
   "cell_type": "markdown",
   "metadata": {},
   "source": [
    "Держим в уме, что обратная матрица существует только для квадратной матрицы.\n",
    "\n",
    "В конце проверим на практики изменится ли результат качества на исходных и преобразованных данных."
   ]
  },
  {
   "cell_type": "markdown",
   "metadata": {},
   "source": [
    "3 Резюме.\n",
    "\n",
    "Алгоритм - генерируем случайную матрицу, умножаем на неë матрицу признаков. Обоснования - существующие формулы и полученный ответ на шаги 2 \"Умножение матриц\"."
   ]
  },
  {
   "cell_type": "markdown",
   "metadata": {},
   "source": [
    "## Проверка алгоритма"
   ]
  },
  {
   "cell_type": "markdown",
   "metadata": {},
   "source": [
    "* Признаки: пол, возраст и зарплата застрахованного, количество членов его семьи.\n",
    "* Целевой признак: количество страховых выплат клиенту за последние 5 лет."
   ]
  },
  {
   "cell_type": "code",
   "execution_count": 8,
   "metadata": {},
   "outputs": [],
   "source": [
    "features = clients.drop('Страховые выплаты', axis=1).values\n",
    "target = clients['Страховые выплаты'].values"
   ]
  },
  {
   "cell_type": "markdown",
   "metadata": {},
   "source": [
    "Создадим матрицу 4 на 4:"
   ]
  },
  {
   "cell_type": "code",
   "execution_count": 9,
   "metadata": {},
   "outputs": [
    {
     "data": {
      "text/plain": [
       "array([[-0.45282835,  0.33725699, -0.26515244,  0.68123723],\n",
       "       [-0.54644509, -0.99231989,  0.95575916, -1.66524641],\n",
       "       [ 0.89549729,  0.63589695,  0.48812667,  0.18245068],\n",
       "       [ 1.09210813, -0.84777205, -1.23580546, -0.44256535]])"
      ]
     },
     "execution_count": 9,
     "metadata": {},
     "output_type": "execute_result"
    }
   ],
   "source": [
    "matrix_Z =np.random.normal(size = (4,4)) \n",
    "matrix_Z"
   ]
  },
  {
   "cell_type": "markdown",
   "metadata": {},
   "source": [
    "Проверяем обратимость марицы:"
   ]
  },
  {
   "cell_type": "code",
   "execution_count": 10,
   "metadata": {},
   "outputs": [
    {
     "data": {
      "text/plain": [
       "array([[-24.92346409,  -9.67446629,  -9.97946617,  -6.0763496 ],\n",
       "       [112.28774517,  43.59931368,  48.35305923,  28.72579269],\n",
       "       [-64.71953617, -24.94866325, -27.24396113, -16.97910805],\n",
       "       [-95.87911277, -37.72583732, -41.17537039, -24.86882539]])"
      ]
     },
     "execution_count": 10,
     "metadata": {},
     "output_type": "execute_result"
    }
   ],
   "source": [
    "matrix_Z = LA.inv(matrix_Z)\n",
    "matrix_Z"
   ]
  },
  {
   "cell_type": "code",
   "execution_count": 11,
   "metadata": {},
   "outputs": [
    {
     "name": "stdout",
     "output_type": "stream",
     "text": [
      "Метрика качества линейной регрессии R2 на исходных признаках: 0.42494550308169177\n",
      "Метрика качества линейной регрессии R2 на преобразованных признаках: 0.42494550308172063\n"
     ]
    }
   ],
   "source": [
    "model = LinearRegression() #Создается объект модели линейной регрессии\n",
    "model.fit(features, target) #Обучающие признаки и целевая переменная подаются в метод fit() модели для обучения на исходных признаках\n",
    "predictions = model.predict(features) #Делаются прогнозы на обучающих данных с помощью метода predict()\n",
    "print('Метрика качества линейной регрессии R2 на исходных признаках:',r2_score(target, predictions)) #Вычисляется метрика качества линейной регрессии R2 на исходных признаках с помощью функции r2_score()\n",
    "\n",
    "matrix_new = features @ matrix_Z #Производится преобразование признаков с помощью матрицы matrix_Z\n",
    "model.fit(matrix_new, target) #Обучающие признаки, преобразованные с помощью матрицы matrix_Z, и целевая переменная подаются в метод fit() модели для обучения на преобразованных признаках\n",
    "predictions = model.predict(matrix_new) #Делаются прогнозы на преобразованных данных с помощью метода predict()\n",
    "print('Метрика качества линейной регрессии R2 на преобразованных признаках:',r2_score(target, predictions)) #Вычисляется метрика качества линейной регрессии R2 на преобразованных признаках с помощью функции r2_score()"
   ]
  },
  {
   "cell_type": "markdown",
   "metadata": {},
   "source": [
    "4 Резюме.\n",
    "\n",
    "Создали матрицу 4 на 4 и проверели ее обратимость. Метрика качества линейной регрессии R2 на преобразованных признаках не ухудшило качество линейной регрессии посровнению с метрикой качества линейной регрессии R2 на исходных признаках. "
   ]
  },
  {
   "cell_type": "markdown",
   "metadata": {},
   "source": [
    "# Вывад"
   ]
  },
  {
   "cell_type": "markdown",
   "metadata": {},
   "source": [
    "Мы защитили данные клиентов страховой компании «Хоть потоп». Разработали метод преобразования данных, чтобы по ним было сложно восстановить персональную информацию и обосновали корректность его работы. При преобразовании качество моделей машинного обучения не ухудшилось.\n",
    "\n",
    "1. Импортировали библиотеки. Загрузили и посмотрели файл. Пропусков необнаружилось. Изменили формат  float на int.\n",
    "Ответьте на вопрос и обоснуйте решение. \n",
    "2. Если признаки умножают на обратимую матрицу то качество линейной регрессии не изменится. Фактически мы генерируем случайный массив данных и умнажаем его на наши данные.\n",
    "3. Алгоритм: сгенерировать случайную матрицу, проверить еë на обратимость, умножить матрицу признаков на сгенерированную матрицу. Изменится растояние признаков, но относительно искомого значения разницы небудет.\n",
    "4. Мы запрограммировали алгоритм, применив матричные операции. Проверили, что качество линейной регрессии из sklearn не отличается до и после преобразования. Применили метрику R2.\n",
    "* Метрика качества линейной регрессии R2 на исходных признаках: 0.4249455\n",
    "* Метрика качества линейной регрессии R2 на преобразованных признаках: 0.4249455"
   ]
  }
 ],
 "metadata": {
  "ExecuteTimeLog": [
   {
    "duration": 378,
    "start_time": "2023-03-22T09:30:44.705Z"
   },
   {
    "duration": 104,
    "start_time": "2023-03-22T09:30:45.733Z"
   },
   {
    "duration": 24,
    "start_time": "2023-03-22T09:30:46.242Z"
   },
   {
    "duration": 14,
    "start_time": "2023-03-22T09:30:54.698Z"
   },
   {
    "duration": 16,
    "start_time": "2023-03-22T09:33:29.185Z"
   },
   {
    "duration": 6,
    "start_time": "2023-03-22T09:34:51.834Z"
   },
   {
    "duration": 51,
    "start_time": "2023-03-22T20:28:06.936Z"
   },
   {
    "duration": 451,
    "start_time": "2023-03-22T20:28:16.455Z"
   },
   {
    "duration": 787,
    "start_time": "2023-03-22T20:28:16.909Z"
   },
   {
    "duration": 77,
    "start_time": "2023-03-22T20:28:17.706Z"
   },
   {
    "duration": 25,
    "start_time": "2023-03-22T20:28:17.790Z"
   },
   {
    "duration": 12,
    "start_time": "2023-03-22T20:28:17.817Z"
   },
   {
    "duration": 5,
    "start_time": "2023-03-22T20:28:17.831Z"
   },
   {
    "duration": 6,
    "start_time": "2023-03-22T20:28:17.838Z"
   },
   {
    "duration": 7,
    "start_time": "2023-03-22T20:28:17.846Z"
   },
   {
    "duration": 153,
    "start_time": "2023-03-22T20:30:57.095Z"
   },
   {
    "duration": 10,
    "start_time": "2023-03-22T20:31:59.443Z"
   },
   {
    "duration": 8,
    "start_time": "2023-03-22T20:33:13.496Z"
   },
   {
    "duration": 8,
    "start_time": "2023-03-22T20:33:18.623Z"
   },
   {
    "duration": 5,
    "start_time": "2023-03-22T20:35:56.443Z"
   },
   {
    "duration": 10,
    "start_time": "2023-03-22T20:36:01.451Z"
   },
   {
    "duration": 5,
    "start_time": "2023-03-22T20:36:05.722Z"
   },
   {
    "duration": 8,
    "start_time": "2023-03-22T20:36:07.219Z"
   },
   {
    "duration": 392,
    "start_time": "2023-03-22T20:36:18.922Z"
   },
   {
    "duration": 709,
    "start_time": "2023-03-22T20:36:19.317Z"
   },
   {
    "duration": 28,
    "start_time": "2023-03-22T20:36:20.028Z"
   },
   {
    "duration": 32,
    "start_time": "2023-03-22T20:36:20.057Z"
   },
   {
    "duration": 27,
    "start_time": "2023-03-22T20:36:20.099Z"
   },
   {
    "duration": 9,
    "start_time": "2023-03-22T20:36:20.127Z"
   },
   {
    "duration": 12,
    "start_time": "2023-03-22T20:36:20.137Z"
   },
   {
    "duration": 15,
    "start_time": "2023-03-22T20:36:20.150Z"
   },
   {
    "duration": 60,
    "start_time": "2023-03-22T20:36:20.167Z"
   },
   {
    "duration": 125,
    "start_time": "2023-03-22T20:36:20.229Z"
   },
   {
    "duration": 22,
    "start_time": "2023-03-22T20:38:15.187Z"
   },
   {
    "duration": 62,
    "start_time": "2023-03-22T20:39:13.113Z"
   },
   {
    "duration": 467,
    "start_time": "2023-03-23T09:34:19.472Z"
   },
   {
    "duration": 823,
    "start_time": "2023-03-23T09:34:19.941Z"
   },
   {
    "duration": 112,
    "start_time": "2023-03-23T09:34:20.766Z"
   },
   {
    "duration": 25,
    "start_time": "2023-03-23T09:34:20.881Z"
   },
   {
    "duration": 46,
    "start_time": "2023-03-23T09:34:20.908Z"
   },
   {
    "duration": 14,
    "start_time": "2023-03-23T09:34:20.955Z"
   },
   {
    "duration": 5,
    "start_time": "2023-03-23T09:34:20.971Z"
   },
   {
    "duration": 6,
    "start_time": "2023-03-23T09:34:20.978Z"
   },
   {
    "duration": 11,
    "start_time": "2023-03-23T09:34:20.986Z"
   },
   {
    "duration": 11,
    "start_time": "2023-03-23T09:34:21.001Z"
   },
   {
    "duration": 169,
    "start_time": "2023-03-23T09:34:21.014Z"
   },
   {
    "duration": 403,
    "start_time": "2023-03-23T10:46:57.182Z"
   },
   {
    "duration": 688,
    "start_time": "2023-03-23T10:46:57.587Z"
   },
   {
    "duration": 28,
    "start_time": "2023-03-23T10:46:58.276Z"
   },
   {
    "duration": 21,
    "start_time": "2023-03-23T10:46:58.306Z"
   },
   {
    "duration": 12,
    "start_time": "2023-03-23T10:46:58.329Z"
   },
   {
    "duration": 10,
    "start_time": "2023-03-23T10:46:58.343Z"
   },
   {
    "duration": 8,
    "start_time": "2023-03-23T10:46:58.355Z"
   },
   {
    "duration": 7,
    "start_time": "2023-03-23T10:46:58.365Z"
   },
   {
    "duration": 6,
    "start_time": "2023-03-23T10:46:58.373Z"
   },
   {
    "duration": 8,
    "start_time": "2023-03-23T10:46:58.381Z"
   },
   {
    "duration": 172,
    "start_time": "2023-03-23T10:46:58.391Z"
   },
   {
    "duration": 527,
    "start_time": "2023-03-24T07:02:53.158Z"
   },
   {
    "duration": 2161,
    "start_time": "2023-03-24T07:02:53.688Z"
   },
   {
    "duration": 50,
    "start_time": "2023-03-24T07:02:55.851Z"
   },
   {
    "duration": 21,
    "start_time": "2023-03-24T07:02:55.902Z"
   },
   {
    "duration": 48,
    "start_time": "2023-03-24T07:02:55.925Z"
   },
   {
    "duration": 24,
    "start_time": "2023-03-24T07:02:55.981Z"
   },
   {
    "duration": 23,
    "start_time": "2023-03-24T07:02:56.007Z"
   },
   {
    "duration": 60,
    "start_time": "2023-03-24T07:02:56.032Z"
   },
   {
    "duration": 17,
    "start_time": "2023-03-24T07:02:56.094Z"
   },
   {
    "duration": 9,
    "start_time": "2023-03-24T07:02:56.112Z"
   },
   {
    "duration": 112,
    "start_time": "2023-03-24T07:02:56.125Z"
   },
   {
    "duration": 9,
    "start_time": "2023-03-24T18:24:28.032Z"
   },
   {
    "duration": 4,
    "start_time": "2023-03-24T18:24:40.252Z"
   },
   {
    "duration": 47,
    "start_time": "2023-03-24T18:25:11.230Z"
   },
   {
    "duration": 423,
    "start_time": "2023-03-24T18:25:51.198Z"
   },
   {
    "duration": 739,
    "start_time": "2023-03-24T18:25:51.623Z"
   },
   {
    "duration": 76,
    "start_time": "2023-03-24T18:25:52.363Z"
   },
   {
    "duration": 22,
    "start_time": "2023-03-24T18:25:52.442Z"
   },
   {
    "duration": 12,
    "start_time": "2023-03-24T18:25:52.465Z"
   },
   {
    "duration": 11,
    "start_time": "2023-03-24T18:25:52.478Z"
   },
   {
    "duration": 7,
    "start_time": "2023-03-24T18:25:52.491Z"
   },
   {
    "duration": 6,
    "start_time": "2023-03-24T18:25:52.499Z"
   },
   {
    "duration": 6,
    "start_time": "2023-03-24T18:25:52.507Z"
   },
   {
    "duration": 20,
    "start_time": "2023-03-24T18:25:52.516Z"
   },
   {
    "duration": 6,
    "start_time": "2023-03-24T18:25:52.538Z"
   },
   {
    "duration": 241,
    "start_time": "2023-03-24T18:25:52.546Z"
   },
   {
    "duration": 0,
    "start_time": "2023-03-24T18:25:52.789Z"
   },
   {
    "duration": 0,
    "start_time": "2023-03-24T18:25:52.790Z"
   },
   {
    "duration": 0,
    "start_time": "2023-03-24T18:25:52.791Z"
   },
   {
    "duration": 362,
    "start_time": "2023-03-24T18:26:37.587Z"
   },
   {
    "duration": 663,
    "start_time": "2023-03-24T18:26:37.950Z"
   },
   {
    "duration": 31,
    "start_time": "2023-03-24T18:26:38.614Z"
   },
   {
    "duration": 19,
    "start_time": "2023-03-24T18:26:38.646Z"
   },
   {
    "duration": 11,
    "start_time": "2023-03-24T18:26:38.668Z"
   },
   {
    "duration": 13,
    "start_time": "2023-03-24T18:26:38.680Z"
   },
   {
    "duration": 5,
    "start_time": "2023-03-24T18:26:38.694Z"
   },
   {
    "duration": 9,
    "start_time": "2023-03-24T18:26:38.700Z"
   },
   {
    "duration": 7,
    "start_time": "2023-03-24T18:26:38.711Z"
   },
   {
    "duration": 8,
    "start_time": "2023-03-24T18:26:38.733Z"
   },
   {
    "duration": 101,
    "start_time": "2023-03-24T18:26:38.743Z"
   },
   {
    "duration": 377,
    "start_time": "2023-03-24T21:50:35.171Z"
   },
   {
    "duration": 716,
    "start_time": "2023-03-24T21:50:35.551Z"
   },
   {
    "duration": 30,
    "start_time": "2023-03-24T21:50:36.268Z"
   },
   {
    "duration": 20,
    "start_time": "2023-03-24T21:50:36.299Z"
   },
   {
    "duration": 12,
    "start_time": "2023-03-24T21:50:36.321Z"
   },
   {
    "duration": 6,
    "start_time": "2023-03-24T21:50:36.335Z"
   },
   {
    "duration": 9,
    "start_time": "2023-03-24T21:50:36.343Z"
   },
   {
    "duration": 9,
    "start_time": "2023-03-24T21:50:36.354Z"
   },
   {
    "duration": 7,
    "start_time": "2023-03-24T21:50:36.364Z"
   },
   {
    "duration": 7,
    "start_time": "2023-03-24T21:50:36.373Z"
   },
   {
    "duration": 158,
    "start_time": "2023-03-24T21:50:36.381Z"
   },
   {
    "duration": 429,
    "start_time": "2023-03-24T22:03:24.296Z"
   },
   {
    "duration": 754,
    "start_time": "2023-03-24T22:03:24.727Z"
   },
   {
    "duration": 32,
    "start_time": "2023-03-24T22:03:25.483Z"
   },
   {
    "duration": 24,
    "start_time": "2023-03-24T22:03:25.517Z"
   },
   {
    "duration": 14,
    "start_time": "2023-03-24T22:03:25.544Z"
   },
   {
    "duration": 18,
    "start_time": "2023-03-24T22:03:25.560Z"
   },
   {
    "duration": 7,
    "start_time": "2023-03-24T22:03:25.581Z"
   },
   {
    "duration": 29,
    "start_time": "2023-03-24T22:03:25.590Z"
   },
   {
    "duration": 14,
    "start_time": "2023-03-24T22:03:25.621Z"
   },
   {
    "duration": 8,
    "start_time": "2023-03-24T22:03:25.637Z"
   },
   {
    "duration": 97,
    "start_time": "2023-03-24T22:03:25.648Z"
   }
  ],
  "kernelspec": {
   "display_name": "Python 3 (ipykernel)",
   "language": "python",
   "name": "python3"
  },
  "language_info": {
   "codemirror_mode": {
    "name": "ipython",
    "version": 3
   },
   "file_extension": ".py",
   "mimetype": "text/x-python",
   "name": "python",
   "nbconvert_exporter": "python",
   "pygments_lexer": "ipython3",
   "version": "3.9.5"
  },
  "toc": {
   "base_numbering": 1,
   "nav_menu": {},
   "number_sections": true,
   "sideBar": true,
   "skip_h1_title": true,
   "title_cell": "Содержание",
   "title_sidebar": "Contents",
   "toc_cell": true,
   "toc_position": {},
   "toc_section_display": true,
   "toc_window_display": false
  }
 },
 "nbformat": 4,
 "nbformat_minor": 2
}
